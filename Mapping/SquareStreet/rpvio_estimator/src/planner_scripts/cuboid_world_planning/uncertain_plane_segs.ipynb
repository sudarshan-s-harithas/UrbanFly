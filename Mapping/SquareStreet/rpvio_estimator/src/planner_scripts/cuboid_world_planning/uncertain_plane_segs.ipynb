{
 "cells": [
  {
   "cell_type": "code",
   "execution_count": 91,
   "metadata": {},
   "outputs": [],
   "source": [
    "import numpy as np\n",
    "import open3d as o3d\n",
    "from scipy.spatial.transform import Rotation\n",
    "N = 100"
   ]
  },
  {
   "cell_type": "code",
   "execution_count": 92,
   "metadata": {},
   "outputs": [],
   "source": [
    "# Sample 50 points in x-z plane in range (5, 3)\n",
    "x_samples = np.random.uniform(low=0, high=7, size=(N, 1))\n",
    "z_samples = np.random.uniform(low=0, high=4, size=(N, 1))\n",
    "y_samples = np.zeros((N, 1))\n",
    "gt_points = np.hstack((x_samples, y_samples, z_samples))\n",
    "\n",
    "# Visualize the sampled points\n",
    "pcd = o3d.geometry.PointCloud()\n",
    "pcd.points = o3d.utility.Vector3dVector(gt_points)\n",
    "pcd.paint_uniform_color(np.array([[0, 1, 0]]).T)\n",
    "\n",
    "# Visualize the mean x-z plane segment\n",
    "gt_plane = o3d.geometry.TriangleMesh.create_box(width=7, height=0.01, depth=4)\n",
    "gt_plane.paint_uniform_color(np.array([[0, 1, 0]]).T)\n",
    "coord_frame = o3d.geometry.TriangleMesh.create_coordinate_frame()\n",
    "o3d.visualization.draw_geometries([pcd, gt_plane, coord_frame])"
   ]
  },
  {
   "cell_type": "code",
   "execution_count": 93,
   "metadata": {},
   "outputs": [
    {
     "name": "stdout",
     "output_type": "stream",
     "text": [
      "[-0.01179844  0.97437197 -0.22463315  0.33878613]\n"
     ]
    },
    {
     "name": "stderr",
     "output_type": "stream",
     "text": [
      "/home/tvvsstas/miniconda3/lib/python3.7/site-packages/ipykernel_launcher.py:31: UserWarning: Optimal rotation is not uniquely or poorly defined for the given sets of vectors.\n"
     ]
    }
   ],
   "source": [
    "noisy_planes = []\n",
    "\n",
    "for i in range(1):\n",
    "    # Add gaussian noise to the points in y_direction\n",
    "#     y_noise = np.random.normal(0, 0.5, size=(N, 1))\n",
    "#     x_noise = 1.5*np.random.random((N, 1)) - 0.75\n",
    "#     y_noise = 1.5*np.random.random((N, 1)) - 0.75\n",
    "#     z_noise = 1.5*np.random.random((N, 1)) - 0.75\n",
    "    x_noise = np.random.normal(0, 0.5, size=(N, 1))\n",
    "    y_noise = np.random.normal(0, 0.5, size=(N, 1))\n",
    "    z_noise = np.random.normal(0, 0.5, size=(N, 1))\n",
    "    noisy_points = np.hstack((x_samples+x_noise, y_samples+y_noise, z_samples+z_noise))\n",
    "\n",
    "    # Visualize the sampled points\n",
    "    noisy_pcd = o3d.geometry.PointCloud()\n",
    "    noisy_pcd.points = o3d.utility.Vector3dVector(noisy_points)\n",
    "    noisy_pcd.paint_uniform_color(np.array([[1, 0, 0]]).T)\n",
    "    obox = noisy_pcd.get_oriented_bounding_box()\n",
    "    abox = noisy_pcd.get_axis_aligned_bounding_box()\n",
    "#     noisy_planes.append(obox)\n",
    "#     o3d.visualization.draw_geometries([noisy_pcd, obox, pcd, coord_frame])\n",
    "\n",
    "    plane_params, some_list = noisy_pcd.segment_plane(1.0, int(N), 5)\n",
    "    plane_params = plane_params/np.linalg.norm(plane_params[:3])\n",
    "    print(plane_params)\n",
    "\n",
    "    \"\"\" Draw mean plane of noisy point cloud \"\"\"\n",
    "    gt_normal = np.array([[0, 1, 0]])\n",
    "    noisy_normal = plane_params[:3].reshape((1, 3))\n",
    "    # Find the relative rotation between normals\n",
    "    R, error = Rotation.align_vectors(gt_normal, noisy_normal)\n",
    "    R.as_matrix(), error\n",
    "\n",
    "    # Find the nearest point on the plane to origin\n",
    "    l = -plane_params[-1]\n",
    "    noisy_origin = (l*plane_params[:3]).reshape((3, 1))\n",
    "    # noisy_origin\n",
    "\n",
    "    # Compute the relative transformation w.r.t ground truth plane segment\n",
    "    noisy_plane = o3d.geometry.TriangleMesh.create_box(width=5, height=0.01, depth=3)\n",
    "    noisy_plane.paint_uniform_color(np.array([[0, 0, 1]]).T)\n",
    "#     noisy_plane.translate(-R.as_matrix().T@noisy_origin)\n",
    "#     obox.translate(-R.as_matrix().T@noisy_origin)\n",
    "#     obox.rotate(R.as_matrix().T)\n",
    "    noisy_planes.append(abox)\n",
    "\n",
    "# Create a plane segment box and transform to estimated segment\n",
    "o3d.visualization.draw_geometries([pcd, gt_plane, coord_frame] + noisy_planes)"
   ]
  },
  {
   "cell_type": "code",
   "execution_count": 94,
   "metadata": {},
   "outputs": [],
   "source": [
    "# # Create a test point cloud\n",
    "# x = np.arange(0, 1, 0.05)\n",
    "# y = np.arange(0, 2, 0.05)\n",
    "# z = np.arange(0, 3, 0.05)\n",
    "\n",
    "# xs, ys, zs = np.meshgrid(x, y, z)\n",
    "# pts = np.vstack((xs.flatten(), ys.flatten(), zs.flatten())).T\n",
    "# pts_ = np.hstack((pts, np.ones((pts.shape[0], 1))))\n",
    "\n",
    "# R = np.array([[0, 1, 0], [0, 0, -1], [-1, 0, 0]]) # is inverse rotation\n",
    "# t = np.array([[-1, -2, -3]]).T\n",
    "# w2c = np.hstack((R, t))\n",
    "# w2c = np.vstack((w2c, np.array([[0, 0, 0, 1]]))) # transforms from w to c\n",
    "\n",
    "# tp = o3d.geometry.PointCloud()\n",
    "# # tp.points = o3d.utility.Vector3dVector((R.T@pts.T-R.T@t).T)\n",
    "# tp.points = o3d.utility.Vector3dVector(((R@(pts.T+t)).T)/5.0)\n",
    "# # tp.points = o3d.utility.Vector3dVector(pts)\n",
    "# coord_frame = o3d.geometry.TriangleMesh.create_coordinate_frame()\n",
    "# o3d.visualization.draw_geometries([tp, coord_frame])"
   ]
  },
  {
   "cell_type": "code",
   "execution_count": 101,
   "metadata": {
    "scrolled": true
   },
   "outputs": [
    {
     "name": "stdout",
     "output_type": "stream",
     "text": [
      "0.7622766450415077\n"
     ]
    }
   ],
   "source": [
    "def get_plane_offset(plane_model, points, inliers):\n",
    "    points = np.hstack((points, np.ones((points.shape[0], 1))))\n",
    "    num_of_inliers = len(inliers)\n",
    "    \n",
    "    pp_sum = 0.0\n",
    "    pp_squares_sum = 0.0\n",
    "    centroid = np.zeros(3)\n",
    "    for i in range(num_of_inliers):\n",
    "        point = points[inliers[i], :]\n",
    "        pp_distance = point.flatten().dot(plane_model.flatten())\n",
    "        centroid += points[inliers[i], :3].flatten()\n",
    "        \n",
    "        pp_sum += pp_distance\n",
    "        pp_squares_sum += pp_distance**2\n",
    "    \n",
    "    mean = pp_sum/len(inliers)\n",
    "    variance = (pp_squares_sum - ((pp_sum**2)/num_of_inliers)) / (num_of_inliers-1)\n",
    "    std_dev = variance**0.5\n",
    "    centroid = centroid/num_of_inliers\n",
    "\n",
    "    \"\"\" \n",
    "    For a Gaussian distribution\n",
    "    68% values lie within 1*std_dev\n",
    "    95% values lie within 2*std_dev\n",
    "    99.7% values lie within 3*std_dev\n",
    "    \"\"\"\n",
    "    return 2*std_dev, centroid\n",
    "\n",
    "# Fit a plane fixing the normal\n",
    "plane_normal = np.array([[0, 1, 0]]).T\n",
    "plane_params, inliers = noisy_pcd.segment_plane(0.5, int(N/10), 100)\n",
    "plane_params[:3] = plane_normal.flatten()\n",
    "\n",
    "# Find min and max 'd' values\n",
    "delta, centroid = get_plane_offset(plane_params, noisy_points, inliers)\n",
    "\n",
    "# Compute bounding box dimensions from plane delta and centroid\n",
    "plane_normal = np.array([[1, delta, 1]]).T\n",
    "box_points = np.array([[0, delta, 0], [0, -delta, 0]])\n",
    "box_points = np.vstack((gt_points, box_points))\n",
    "\n",
    "bbox = o3d.geometry.PointCloud()\n",
    "bbox.points = o3d.utility.Vector3dVector(box_points)\n",
    "\n",
    "noisy_plane = o3d.geometry.TriangleMesh.create_box(width=7, height=0.01, depth=4)\n",
    "noisy_plane.paint_uniform_color(np.array([[0, 0, 1]]).T)\n",
    "noisy_plane.translate(np.array([[0, centroid[1], 0]]).T)\n",
    "\n",
    "# Create a plane segment box and transform to estimated segment\n",
    "o3d.visualization.draw_geometries([bbox.get_axis_aligned_bounding_box(), noisy_pcd, coord_frame, gt_plane, noisy_plane])\n",
    "print(delta)"
   ]
  },
  {
   "cell_type": "code",
   "execution_count": null,
   "metadata": {},
   "outputs": [],
   "source": []
  }
 ],
 "metadata": {
  "kernelspec": {
   "display_name": "Python 3",
   "language": "python",
   "name": "python3"
  },
  "language_info": {
   "codemirror_mode": {
    "name": "ipython",
    "version": 3
   },
   "file_extension": ".py",
   "mimetype": "text/x-python",
   "name": "python",
   "nbconvert_exporter": "python",
   "pygments_lexer": "ipython3",
   "version": "3.7.4"
  }
 },
 "nbformat": 4,
 "nbformat_minor": 4
}
